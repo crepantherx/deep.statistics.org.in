{
 "cells": [
  {
   "metadata": {},
   "cell_type": "code",
   "outputs": [],
   "execution_count": null,
   "source": [
    "import pickle\n",
    "with open('data.pkl', 'rb') as file:  # Note: 'rb' for binary read\n",
    "    d = pickle.load(file)"
   ],
   "id": "689b454aa47bfcc9"
  },
  {
   "metadata": {},
   "cell_type": "code",
   "outputs": [],
   "execution_count": null,
   "source": "d['dataset_6'].keys()",
   "id": "942c637b93bf2d4e"
  },
  {
   "metadata": {},
   "cell_type": "code",
   "outputs": [],
   "execution_count": null,
   "source": "",
   "id": "3355bdfb30275096"
  }
 ],
 "metadata": {},
 "nbformat": 5,
 "nbformat_minor": 9
}
