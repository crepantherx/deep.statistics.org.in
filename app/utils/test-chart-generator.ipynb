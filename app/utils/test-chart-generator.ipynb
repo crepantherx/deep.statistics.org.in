{
 "cells": [
  {
   "metadata": {},
   "cell_type": "code",
   "outputs": [],
   "execution_count": null,
   "source": [
    "import csv\n",
    "\n",
    "from fontTools.ttLib.tables.sbixStrike import sbixGlyphDataOffsetFormat"
   ],
   "id": "4b96261139ecf987"
  },
  {
   "metadata": {},
   "cell_type": "code",
   "outputs": [],
   "execution_count": null,
   "source": "from app.utils.chart_generator import generate_charts",
   "id": "c9fc41d5755e97ed"
  },
  {
   "metadata": {},
   "cell_type": "code",
   "outputs": [],
   "execution_count": null,
   "source": [
    "decoded_file = open('/Users/crepantherx/PycharmProjects/deep.statistics.org.in/app/a.csv', newline='')\n",
    "reader = csv.reader(decoded_file)\n",
    "\n",
    "headers = next(reader, None)\n",
    "if not headers:\n",
    "    print(\"CSV file is empty or missing headers.\")\n",
    "\n",
    "\n",
    "data = list(reader)  # Read the rest of the file\n",
    "if not data:\n",
    "    print(\"CSV file contains no data.\")"
   ],
   "id": "de8fd8c2cc1c5dd"
  },
  {
   "metadata": {},
   "cell_type": "code",
   "outputs": [],
   "execution_count": null,
   "source": "headers",
   "id": "1a81ab112cbc4b82"
  },
  {
   "metadata": {},
   "cell_type": "code",
   "outputs": [],
   "execution_count": null,
   "source": "data",
   "id": "c9790e9f052434c5"
  },
  {
   "metadata": {},
   "cell_type": "code",
   "outputs": [],
   "execution_count": null,
   "source": "",
   "id": "2b0fc43ea4d5d876"
  },
  {
   "metadata": {},
   "cell_type": "code",
   "outputs": [],
   "execution_count": null,
   "source": [
    "numerical_columns = []\n",
    "categorical_columns = []\n",
    "\n",
    "for i, col in enumerate(zip(*data)):\n",
    "    try:\n",
    "        [float(value) for value in col]  # Attempt to convert all values to float\n",
    "        numerical_columns.append(headers[i])\n",
    "    except ValueError:\n",
    "        categorical_columns.append(headers[i])"
   ],
   "id": "4657a45842c0436d"
  },
  {
   "metadata": {},
   "cell_type": "code",
   "outputs": [],
   "execution_count": null,
   "source": "charts = generate_charts(data, headers)",
   "id": "dd488798b77f0d2b"
  },
  {
   "metadata": {},
   "cell_type": "code",
   "outputs": [],
   "execution_count": null,
   "source": "len(charts['categorical_columns'])",
   "id": "9d8a6a742b3e541f"
  },
  {
   "metadata": {},
   "cell_type": "code",
   "outputs": [],
   "execution_count": null,
   "source": [
    "from IPython.display import Image, display\n",
    "import base64\n",
    "import re\n",
    "\n",
    "def display_base64_image(item):\n",
    "    # Look for base64 image pattern\n",
    "    match = re.search(r'data:image/[a-z]+;base64,([^\"]+)', item)\n",
    "    if match:\n",
    "        base64_string = match.group(1)  # Extract the base64 part\n",
    "        try:\n",
    "            img_data = base64.b64decode(base64_string)\n",
    "            display(Image(data=img_data))\n",
    "        except Exception as e:\n",
    "            print(f\"Error decoding image: {e}\")\n",
    "\n",
    "# Iterate through the dictionary\n",
    "for key, value_list in charts.items():\n",
    "    print(f\"Key: {key}\")\n",
    "    for item in value_list:\n",
    "        display_base64_image(item)\n",
    "    print(\"-\" * 50)  # Separator for clarity"
   ],
   "id": "7089b651fe5c6ea3"
  },
  {
   "metadata": {},
   "cell_type": "code",
   "outputs": [],
   "execution_count": null,
   "source": "",
   "id": "fa12a42ea5b9d8c"
  }
 ],
 "metadata": {},
 "nbformat": 5,
 "nbformat_minor": 9
}
